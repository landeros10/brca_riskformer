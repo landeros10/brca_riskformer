{
 "cells": [
  {
   "cell_type": "code",
   "execution_count": 8,
   "metadata": {},
   "outputs": [],
   "source": [
    "import sys\n",
    "import os\n",
    "\n",
    "# Add the project root directory to Python path\n",
    "project_root = os.path.abspath(os.path.join(os.getcwd(), '../..'))\n",
    "if project_root not in sys.path:\n",
    "    sys.path.append(project_root)"
   ]
  },
  {
   "cell_type": "code",
   "execution_count": 20,
   "metadata": {},
   "outputs": [
    {
     "name": "stderr",
     "output_type": "stream",
     "text": [
      "/Users/landeros/miniconda3/envs/pytorch_env/lib/python3.10/site-packages/pydantic/_internal/_fields.py:192: UserWarning: Field name \"json\" in \"MonitoringDatasetFormat\" shadows an attribute in parent \"Base\"\n",
      "  warnings.warn(\n"
     ]
    },
    {
     "name": "stdout",
     "output_type": "stream",
     "text": [
      "sagemaker.config INFO - Not applying SDK defaults from location: /Library/Application Support/sagemaker/config.yaml\n",
      "sagemaker.config INFO - Not applying SDK defaults from location: /Users/landeros/Library/Application Support/sagemaker/config.yaml\n"
     ]
    }
   ],
   "source": [
    "from riskformer.utils.config_utils import load_preprocessing_config\n",
    "from riskformer.data.datasets import create_riskformer_dataset"
   ]
  },
  {
   "cell_type": "code",
   "execution_count": 21,
   "metadata": {},
   "outputs": [
    {
     "data": {
      "text/html": [
       "<pre style=\"white-space:pre;overflow-x:auto;line-height:normal;font-family:Menlo,'DejaVu Sans Mono',consolas,'Courier New',monospace\"><span style=\"color: #7fbfbf; text-decoration-color: #7fbfbf\">[03/05/25 02:44:20] </span><span style=\"color: #0069ff; text-decoration-color: #0069ff; font-weight: bold\">INFO    </span> Loading cached SSO token for mgb                                         <a href=\"file:///Users/landeros/miniconda3/envs/pytorch_env/lib/python3.10/site-packages/botocore/tokens.py\" target=\"_blank\"><span style=\"color: #7f7f7f; text-decoration-color: #7f7f7f\">tokens.py</span></a><span style=\"color: #7f7f7f; text-decoration-color: #7f7f7f\">:</span><a href=\"file:///Users/landeros/miniconda3/envs/pytorch_env/lib/python3.10/site-packages/botocore/tokens.py#305\" target=\"_blank\"><span style=\"color: #7f7f7f; text-decoration-color: #7f7f7f\">305</span></a>\n",
       "</pre>\n"
      ],
      "text/plain": [
       "\u001b[2;36m[03/05/25 02:44:20]\u001b[0m\u001b[2;36m \u001b[0m\u001b[1;38;2;0;105;255mINFO    \u001b[0m Loading cached SSO token for mgb                                         \u001b]8;id=201202;file:///Users/landeros/miniconda3/envs/pytorch_env/lib/python3.10/site-packages/botocore/tokens.py\u001b\\\u001b[2mtokens.py\u001b[0m\u001b]8;;\u001b\\\u001b[2m:\u001b[0m\u001b]8;id=241531;file:///Users/landeros/miniconda3/envs/pytorch_env/lib/python3.10/site-packages/botocore/tokens.py#305\u001b\\\u001b[2m305\u001b[0m\u001b]8;;\u001b\\\n"
      ]
     },
     "metadata": {},
     "output_type": "display_data"
    },
    {
     "data": {
      "text/html": [
       "<pre style=\"white-space:pre;overflow-x:auto;line-height:normal;font-family:Menlo,'DejaVu Sans Mono',consolas,'Courier New',monospace\"><span style=\"color: #7fbfbf; text-decoration-color: #7fbfbf\">[03/05/25 02:44:21] </span><span style=\"color: #0069ff; text-decoration-color: #0069ff; font-weight: bold\">INFO    </span> <span style=\"font-weight: bold\">{</span><span style=\"color: #008700; text-decoration-color: #008700\">\"event\"</span>:<span style=\"color: #008700; text-decoration-color: #008700\">\"load_metadata\"</span>,<span style=\"color: #008700; text-decoration-color: #008700\">\"status\"</span>:<span style=\"color: #008700; text-decoration-color: #008700\">\"success\"</span>,<span style=\"color: #008700; text-decoration-color: #008700\">\"timestamp\"</span>:<span style=\"color: #008700; text-decoration-color: #008700\">\"2025-03-</span> <a href=\"file:///Users/landeros/Desktop/BRCA/brca_riskformer/riskformer/utils/logger_config.py\" target=\"_blank\"><span style=\"color: #7f7f7f; text-decoration-color: #7f7f7f\">logger_config.py</span></a><span style=\"color: #7f7f7f; text-decoration-color: #7f7f7f\">:</span><a href=\"file:///Users/landeros/Desktop/BRCA/brca_riskformer/riskformer/utils/logger_config.py#175\" target=\"_blank\"><span style=\"color: #7f7f7f; text-decoration-color: #7f7f7f\">175</span></a>\n",
       "<span style=\"color: #7fbfbf; text-decoration-color: #7fbfbf\">                    </span>         <span style=\"color: #008700; text-decoration-color: #008700\">05T07:44:21.551070\"</span>,<span style=\"color: #008700; text-decoration-color: #008700\">\"total_slides\"</span>:<span style=\"color: #008080; text-decoration-color: #008080; font-weight: bold\">1099</span><span style=\"font-weight: bold\">}</span>                          <span style=\"color: #7f7f7f; text-decoration-color: #7f7f7f\">                    </span>\n",
       "</pre>\n"
      ],
      "text/plain": [
       "\u001b[2;36m[03/05/25 02:44:21]\u001b[0m\u001b[2;36m \u001b[0m\u001b[1;38;2;0;105;255mINFO    \u001b[0m \u001b[1m{\u001b[0m\u001b[38;2;0;135;0m\"event\"\u001b[0m:\u001b[38;2;0;135;0m\"load_metadata\"\u001b[0m,\u001b[38;2;0;135;0m\"status\"\u001b[0m:\u001b[38;2;0;135;0m\"success\"\u001b[0m,\u001b[38;2;0;135;0m\"timestamp\"\u001b[0m:\u001b[38;2;0;135;0m\"2025-03-\u001b[0m \u001b]8;id=171062;file:///Users/landeros/Desktop/BRCA/brca_riskformer/riskformer/utils/logger_config.py\u001b\\\u001b[2mlogger_config.py\u001b[0m\u001b]8;;\u001b\\\u001b[2m:\u001b[0m\u001b]8;id=597651;file:///Users/landeros/Desktop/BRCA/brca_riskformer/riskformer/utils/logger_config.py#175\u001b\\\u001b[2m175\u001b[0m\u001b]8;;\u001b\\\n",
       "\u001b[2;36m                    \u001b[0m         \u001b[38;2;0;135;0m05T07:44:21.551070\"\u001b[0m,\u001b[38;2;0;135;0m\"total_slides\"\u001b[0m:\u001b[1;36m1099\u001b[0m\u001b[1m}\u001b[0m                          \u001b[2m                    \u001b[0m\n"
      ]
     },
     "metadata": {},
     "output_type": "display_data"
    },
    {
     "data": {
      "text/html": [
       "<pre style=\"white-space:pre;overflow-x:auto;line-height:normal;font-family:Menlo,'DejaVu Sans Mono',consolas,'Courier New',monospace\"><span style=\"color: #7fbfbf; text-decoration-color: #7fbfbf\">                    </span><span style=\"color: #0069ff; text-decoration-color: #0069ff; font-weight: bold\">INFO    </span> <span style=\"font-weight: bold\">{</span><span style=\"color: #008700; text-decoration-color: #008700\">\"event\"</span>:<span style=\"color: #008700; text-decoration-color: #008700\">\"find_complete_slide_sets\"</span>,<span style=\"color: #008700; text-decoration-color: #008700\">\"status\"</span>:<span style=\"color: #008700; text-decoration-color: #008700\">\"success\"</span>,<span style=\"color: #008700; text-decoration-color: #008700\">\"timestamp</span> <a href=\"file:///Users/landeros/Desktop/BRCA/brca_riskformer/riskformer/utils/logger_config.py\" target=\"_blank\"><span style=\"color: #7f7f7f; text-decoration-color: #7f7f7f\">logger_config.py</span></a><span style=\"color: #7f7f7f; text-decoration-color: #7f7f7f\">:</span><a href=\"file:///Users/landeros/Desktop/BRCA/brca_riskformer/riskformer/utils/logger_config.py#175\" target=\"_blank\"><span style=\"color: #7f7f7f; text-decoration-color: #7f7f7f\">175</span></a>\n",
       "<span style=\"color: #7fbfbf; text-decoration-color: #7fbfbf\">                    </span>         <span style=\"color: #008700; text-decoration-color: #008700\">\"</span>:<span style=\"color: #008700; text-decoration-color: #008700\">\"2025-03-05T07:44:21.802466\"</span>,<span style=\"color: #008700; text-decoration-color: #008700\">\"total_files\"</span>:<span style=\"color: #008080; text-decoration-color: #008080; font-weight: bold\">144</span>,<span style=\"color: #008700; text-decoration-color: #008700\">\"total_slides_in</span> <span style=\"color: #7f7f7f; text-decoration-color: #7f7f7f\">                    </span>\n",
       "<span style=\"color: #7fbfbf; text-decoration-color: #7fbfbf\">                    </span>         <span style=\"color: #008700; text-decoration-color: #008700\">_metadata\"</span>:<span style=\"color: #008080; text-decoration-color: #008080; font-weight: bold\">1099</span>,<span style=\"color: #008700; text-decoration-color: #008700\">\"preprocessed_slides_found\"</span>:<span style=\"color: #008080; text-decoration-color: #008080; font-weight: bold\">36</span>,<span style=\"color: #008700; text-decoration-color: #008700\">\"missing_slides\"</span>:<span style=\"color: #008080; text-decoration-color: #008080; font-weight: bold\">1</span> <span style=\"color: #7f7f7f; text-decoration-color: #7f7f7f\">                    </span>\n",
       "<span style=\"color: #7fbfbf; text-decoration-color: #7fbfbf\">                    </span>         <span style=\"color: #008080; text-decoration-color: #008080; font-weight: bold\">063</span><span style=\"font-weight: bold\">}</span>                                                              <span style=\"color: #7f7f7f; text-decoration-color: #7f7f7f\">                    </span>\n",
       "</pre>\n"
      ],
      "text/plain": [
       "\u001b[2;36m                   \u001b[0m\u001b[2;36m \u001b[0m\u001b[1;38;2;0;105;255mINFO    \u001b[0m \u001b[1m{\u001b[0m\u001b[38;2;0;135;0m\"event\"\u001b[0m:\u001b[38;2;0;135;0m\"find_complete_slide_sets\"\u001b[0m,\u001b[38;2;0;135;0m\"status\"\u001b[0m:\u001b[38;2;0;135;0m\"success\"\u001b[0m,\u001b[38;2;0;135;0m\"timestamp\u001b[0m \u001b]8;id=700932;file:///Users/landeros/Desktop/BRCA/brca_riskformer/riskformer/utils/logger_config.py\u001b\\\u001b[2mlogger_config.py\u001b[0m\u001b]8;;\u001b\\\u001b[2m:\u001b[0m\u001b]8;id=776992;file:///Users/landeros/Desktop/BRCA/brca_riskformer/riskformer/utils/logger_config.py#175\u001b\\\u001b[2m175\u001b[0m\u001b]8;;\u001b\\\n",
       "\u001b[2;36m                    \u001b[0m         \u001b[38;2;0;135;0m\"\u001b[0m:\u001b[38;2;0;135;0m\"2025-03-05T07:44:21.802466\"\u001b[0m,\u001b[38;2;0;135;0m\"total_files\"\u001b[0m:\u001b[1;36m144\u001b[0m,\u001b[38;2;0;135;0m\"total_slides_in\u001b[0m \u001b[2m                    \u001b[0m\n",
       "\u001b[2;36m                    \u001b[0m         \u001b[38;2;0;135;0m_metadata\"\u001b[0m:\u001b[1;36m1099\u001b[0m,\u001b[38;2;0;135;0m\"preprocessed_slides_found\"\u001b[0m:\u001b[1;36m36\u001b[0m,\u001b[38;2;0;135;0m\"missing_slides\"\u001b[0m:\u001b[1;36m1\u001b[0m \u001b[2m                    \u001b[0m\n",
       "\u001b[2;36m                    \u001b[0m         \u001b[1;36m063\u001b[0m\u001b[1m}\u001b[0m                                                              \u001b[2m                    \u001b[0m\n"
      ]
     },
     "metadata": {},
     "output_type": "display_data"
    },
    {
     "data": {
      "text/html": [
       "<pre style=\"white-space:pre;overflow-x:auto;line-height:normal;font-family:Menlo,'DejaVu Sans Mono',consolas,'Courier New',monospace\"><span style=\"color: #7fbfbf; text-decoration-color: #7fbfbf\">                    </span><span style=\"color: #0069ff; text-decoration-color: #0069ff; font-weight: bold\">INFO    </span> Loading cached SSO token for mgb                                         <a href=\"file:///Users/landeros/miniconda3/envs/pytorch_env/lib/python3.10/site-packages/botocore/tokens.py\" target=\"_blank\"><span style=\"color: #7f7f7f; text-decoration-color: #7f7f7f\">tokens.py</span></a><span style=\"color: #7f7f7f; text-decoration-color: #7f7f7f\">:</span><a href=\"file:///Users/landeros/miniconda3/envs/pytorch_env/lib/python3.10/site-packages/botocore/tokens.py#305\" target=\"_blank\"><span style=\"color: #7f7f7f; text-decoration-color: #7f7f7f\">305</span></a>\n",
       "</pre>\n"
      ],
      "text/plain": [
       "\u001b[2;36m                   \u001b[0m\u001b[2;36m \u001b[0m\u001b[1;38;2;0;105;255mINFO    \u001b[0m Loading cached SSO token for mgb                                         \u001b]8;id=923409;file:///Users/landeros/miniconda3/envs/pytorch_env/lib/python3.10/site-packages/botocore/tokens.py\u001b\\\u001b[2mtokens.py\u001b[0m\u001b]8;;\u001b\\\u001b[2m:\u001b[0m\u001b]8;id=784229;file:///Users/landeros/miniconda3/envs/pytorch_env/lib/python3.10/site-packages/botocore/tokens.py#305\u001b\\\u001b[2m305\u001b[0m\u001b]8;;\u001b\\\n"
      ]
     },
     "metadata": {},
     "output_type": "display_data"
    },
    {
     "data": {
      "text/html": [
       "<pre style=\"white-space:pre;overflow-x:auto;line-height:normal;font-family:Menlo,'DejaVu Sans Mono',consolas,'Courier New',monospace\"><span style=\"color: #7fbfbf; text-decoration-color: #7fbfbf\">[03/05/25 02:44:35] </span><span style=\"color: #0069ff; text-decoration-color: #0069ff; font-weight: bold\">INFO    </span> <span style=\"font-weight: bold\">{</span><span style=\"color: #008700; text-decoration-color: #008700\">\"event\"</span>:<span style=\"color: #008700; text-decoration-color: #008700\">\"create_riskformer_dataset\"</span>,<span style=\"color: #008700; text-decoration-color: #008700\">\"status\"</span>:<span style=\"color: #008700; text-decoration-color: #008700\">\"success\"</span>,<span style=\"color: #008700; text-decoration-color: #008700\">\"timestam</span> <a href=\"file:///Users/landeros/Desktop/BRCA/brca_riskformer/riskformer/utils/logger_config.py\" target=\"_blank\"><span style=\"color: #7f7f7f; text-decoration-color: #7f7f7f\">logger_config.py</span></a><span style=\"color: #7f7f7f; text-decoration-color: #7f7f7f\">:</span><a href=\"file:///Users/landeros/Desktop/BRCA/brca_riskformer/riskformer/utils/logger_config.py#175\" target=\"_blank\"><span style=\"color: #7f7f7f; text-decoration-color: #7f7f7f\">175</span></a>\n",
       "<span style=\"color: #7fbfbf; text-decoration-color: #7fbfbf\">                    </span>         <span style=\"color: #008700; text-decoration-color: #008700\">p\"</span>:<span style=\"color: #008700; text-decoration-color: #008700\">\"2025-03-05T07:44:35.394415\"</span>,<span style=\"color: #008700; text-decoration-color: #008700\">\"slide_count\"</span>:<span style=\"color: #008080; text-decoration-color: #008080; font-weight: bold\">36</span>,<span style=\"color: #008700; text-decoration-color: #008700\">\"feature_dim\"</span>:<span style=\"color: #008080; text-decoration-color: #008080; font-weight: bold\">15</span> <span style=\"color: #7f7f7f; text-decoration-color: #7f7f7f\">                    </span>\n",
       "<span style=\"color: #7fbfbf; text-decoration-color: #7fbfbf\">                    </span>         <span style=\"color: #008080; text-decoration-color: #008080; font-weight: bold\">36</span>,<span style=\"color: #008700; text-decoration-color: #008700\">\"cache_dir\"</span>:<span style=\"color: #008700; text-decoration-color: #008700\">\"/var/folders/mj/wnc76vx92mg99q7wh39m021c0000gn/T/</span> <span style=\"color: #7f7f7f; text-decoration-color: #7f7f7f\">                    </span>\n",
       "<span style=\"color: #7fbfbf; text-decoration-color: #7fbfbf\">                    </span>         <span style=\"color: #008700; text-decoration-color: #008700\">riskformer_cache\"</span><span style=\"font-weight: bold\">}</span>                                                <span style=\"color: #7f7f7f; text-decoration-color: #7f7f7f\">                    </span>\n",
       "</pre>\n"
      ],
      "text/plain": [
       "\u001b[2;36m[03/05/25 02:44:35]\u001b[0m\u001b[2;36m \u001b[0m\u001b[1;38;2;0;105;255mINFO    \u001b[0m \u001b[1m{\u001b[0m\u001b[38;2;0;135;0m\"event\"\u001b[0m:\u001b[38;2;0;135;0m\"create_riskformer_dataset\"\u001b[0m,\u001b[38;2;0;135;0m\"status\"\u001b[0m:\u001b[38;2;0;135;0m\"success\"\u001b[0m,\u001b[38;2;0;135;0m\"timestam\u001b[0m \u001b]8;id=958670;file:///Users/landeros/Desktop/BRCA/brca_riskformer/riskformer/utils/logger_config.py\u001b\\\u001b[2mlogger_config.py\u001b[0m\u001b]8;;\u001b\\\u001b[2m:\u001b[0m\u001b]8;id=146130;file:///Users/landeros/Desktop/BRCA/brca_riskformer/riskformer/utils/logger_config.py#175\u001b\\\u001b[2m175\u001b[0m\u001b]8;;\u001b\\\n",
       "\u001b[2;36m                    \u001b[0m         \u001b[38;2;0;135;0mp\"\u001b[0m:\u001b[38;2;0;135;0m\"2025-03-05T07:44:35.394415\"\u001b[0m,\u001b[38;2;0;135;0m\"slide_count\"\u001b[0m:\u001b[1;36m36\u001b[0m,\u001b[38;2;0;135;0m\"feature_dim\"\u001b[0m:\u001b[1;36m15\u001b[0m \u001b[2m                    \u001b[0m\n",
       "\u001b[2;36m                    \u001b[0m         \u001b[1;36m36\u001b[0m,\u001b[38;2;0;135;0m\"cache_dir\"\u001b[0m:\u001b[38;2;0;135;0m\"/var/folders/mj/wnc76vx92mg99q7wh39m021c0000gn/T/\u001b[0m \u001b[2m                    \u001b[0m\n",
       "\u001b[2;36m                    \u001b[0m         \u001b[38;2;0;135;0mriskformer_cache\"\u001b[0m\u001b[1m}\u001b[0m                                                \u001b[2m                    \u001b[0m\n"
      ]
     },
     "metadata": {},
     "output_type": "display_data"
    }
   ],
   "source": [
    "dataset_metadata = os.path.join(project_root, \"resources/riskformer_slide_samples.json\")\n",
    "preprocessing_config_path = os.path.join(project_root, \"configs/preprocessing/ec2_config.yaml\")\n",
    "preprocessing_config = load_preprocessing_config(preprocessing_config_path)\n",
    "\n",
    "dataset = create_riskformer_dataset(\n",
    "    s3_bucket=preprocessing_config[\"s3\"][\"data_bucket\"],\n",
    "    s3_prefix=os.path.join(preprocessing_config[\"s3\"][\"output_dir\"], preprocessing_config[\"model\"][\"key\"]),\n",
    "    metadata_file=dataset_metadata,\n",
    ")\n",
    "\n"
   ]
  },
  {
   "cell_type": "code",
   "execution_count": 22,
   "metadata": {},
   "outputs": [
    {
     "data": {
      "text/plain": [
       "<riskformer.data.datasets.RiskFormerDataset at 0x149b82590>"
      ]
     },
     "execution_count": 22,
     "metadata": {},
     "output_type": "execute_result"
    }
   ],
   "source": [
    "dataset"
   ]
  },
  {
   "cell_type": "code",
   "execution_count": 24,
   "metadata": {},
   "outputs": [
    {
     "data": {
      "text/plain": [
       "torch.Size([214, 161, 1536])"
      ]
     },
     "execution_count": 24,
     "metadata": {},
     "output_type": "execute_result"
    }
   ],
   "source": [
    "dataset[1].shape"
   ]
  },
  {
   "cell_type": "code",
   "execution_count": null,
   "metadata": {},
   "outputs": [],
   "source": []
  }
 ],
 "metadata": {
  "kernelspec": {
   "display_name": "pytorch_env",
   "language": "python",
   "name": "python3"
  },
  "language_info": {
   "codemirror_mode": {
    "name": "ipython",
    "version": 3
   },
   "file_extension": ".py",
   "mimetype": "text/x-python",
   "name": "python",
   "nbconvert_exporter": "python",
   "pygments_lexer": "ipython3",
   "version": "3.10.16"
  }
 },
 "nbformat": 4,
 "nbformat_minor": 2
}
